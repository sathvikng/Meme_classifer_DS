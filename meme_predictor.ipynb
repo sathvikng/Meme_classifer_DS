{
  "nbformat": 4,
  "nbformat_minor": 0,
  "metadata": {
    "colab": {
      "name": "meme_predictor.ipynb",
      "provenance": []
    },
    "kernelspec": {
      "name": "python3",
      "display_name": "Python 3"
    },
    "accelerator": "GPU"
  },
  "cells": [
    {
      "cell_type": "code",
      "metadata": {
        "id": "dAp4uW-N_TuN"
      },
      "source": [
        "!mkdir data"
      ],
      "execution_count": null,
      "outputs": []
    },
    {
      "cell_type": "code",
      "metadata": {
        "id": "463IVtX0H5CH",
        "colab": {
          "base_uri": "https://localhost:8080/",
          "height": 263
        },
        "outputId": "5c0b6e51-415b-4b9e-db7e-a20c94d70099"
      },
      "source": [
        "!pip install icrawler"
      ],
      "execution_count": null,
      "outputs": [
        {
          "output_type": "stream",
          "text": [
            "Collecting icrawler\n",
            "  Downloading https://files.pythonhosted.org/packages/78/a2/1ac26a2c39b87bef4ef8cb39cb4f33e04041f4a9f04f8cc3dfa1251e0304/icrawler-0.6.2-py2.py3-none-any.whl\n",
            "Requirement already satisfied: requests>=2.9.1 in /usr/local/lib/python3.6/dist-packages (from icrawler) (2.21.0)\n",
            "Requirement already satisfied: lxml in /usr/local/lib/python3.6/dist-packages (from icrawler) (4.2.6)\n",
            "Requirement already satisfied: beautifulsoup4>=4.4.1 in /usr/local/lib/python3.6/dist-packages (from icrawler) (4.6.3)\n",
            "Requirement already satisfied: six>=1.10.0 in /usr/local/lib/python3.6/dist-packages (from icrawler) (1.12.0)\n",
            "Requirement already satisfied: Pillow in /usr/local/lib/python3.6/dist-packages (from icrawler) (7.0.0)\n",
            "Requirement already satisfied: chardet<3.1.0,>=3.0.2 in /usr/local/lib/python3.6/dist-packages (from requests>=2.9.1->icrawler) (3.0.4)\n",
            "Requirement already satisfied: urllib3<1.25,>=1.21.1 in /usr/local/lib/python3.6/dist-packages (from requests>=2.9.1->icrawler) (1.24.3)\n",
            "Requirement already satisfied: idna<2.9,>=2.5 in /usr/local/lib/python3.6/dist-packages (from requests>=2.9.1->icrawler) (2.8)\n",
            "Requirement already satisfied: certifi>=2017.4.17 in /usr/local/lib/python3.6/dist-packages (from requests>=2.9.1->icrawler) (2020.4.5.1)\n",
            "Installing collected packages: icrawler\n",
            "Successfully installed icrawler-0.6.2\n"
          ],
          "name": "stdout"
        }
      ]
    },
    {
      "cell_type": "code",
      "metadata": {
        "id": "X9h711yXIJKu"
      },
      "source": [
        "from icrawler.builtin import BingImageCrawler\n",
        "import tensorflow as tf\n",
        "import os"
      ],
      "execution_count": null,
      "outputs": []
    },
    {
      "cell_type": "code",
      "metadata": {
        "id": "Hz2KCuT5IbhA"
      },
      "source": [
        "classes = ['pepe meme','doge meme']\n",
        "number = 100"
      ],
      "execution_count": null,
      "outputs": []
    },
    {
      "cell_type": "code",
      "metadata": {
        "id": "etgZnykdJG_w",
        "colab": {
          "base_uri": "https://localhost:8080/",
          "height": 1000
        },
        "outputId": "c77bd6fa-425a-4534-e7cc-9ee903a4d94a"
      },
      "source": [
        "for c in classes:\n",
        "  bing_crawler = BingImageCrawler(storage={'root_dir':f'data/{c.replace(\" \",\"-\")}'})\n",
        "  bing_crawler.crawl(keyword=c,filters=None,max_num=number,offset=0)"
      ],
      "execution_count": null,
      "outputs": [
        {
          "output_type": "stream",
          "text": [
            "2020-04-26 20:21:12,481 - INFO - icrawler.crawler - start crawling...\n",
            "2020-04-26 20:21:12,482 - INFO - icrawler.crawler - starting 1 feeder threads...\n",
            "2020-04-26 20:21:12,486 - INFO - feeder - thread feeder-001 exit\n",
            "2020-04-26 20:21:12,486 - INFO - icrawler.crawler - starting 1 parser threads...\n",
            "2020-04-26 20:21:12,493 - INFO - icrawler.crawler - starting 1 downloader threads...\n",
            "2020-04-26 20:21:12,877 - INFO - parser - parsing result page https://www.bing.com/images/async?q=pepe meme&first=0\n",
            "2020-04-26 20:21:12,987 - INFO - downloader - image #1\thttps://www.thewrap.com/wp-content/uploads/2016/09/1200.jpg\n",
            "2020-04-26 20:21:13,009 - INFO - downloader - image #2\thttps://i.ytimg.com/vi/zvgkGewzUq4/maxresdefault.jpg\n",
            "2020-04-26 20:21:13,072 - INFO - downloader - image #3\thttps://static.independent.co.uk/s3fs-public/thumbnails/image/2016/09/27/21/trump-pepe.jpg\n",
            "2020-04-26 20:21:13,103 - INFO - downloader - image #4\thttps://upload.wikimedia.org/wikipedia/en/6/63/Feels_good_man.jpg\n",
            "2020-04-26 20:21:13,189 - INFO - downloader - image #5\thttps://www.booooooom.com/wp-content/uploads/2017/07/Furie1.jpg\n",
            "2020-04-26 20:21:13,772 - INFO - downloader - image #6\thttp://students.com.miami.edu/reporting/wp-content/uploads/2018/03/pepe-meme.jpg\n",
            "2020-04-26 20:21:14,465 - INFO - downloader - image #7\thttps://media.pri.org/s3fs-public/styles/story_main/public/story/images/Crying-Frog-Meme-06.jpg\n",
            "2020-04-26 20:21:14,511 - INFO - downloader - image #8\thttps://dankmemes42069.files.wordpress.com/2016/11/pepe.jpg\n",
            "2020-04-26 20:21:14,989 - ERROR - downloader - Response status code 404, file https://i.amz.mshcdn.com/ifeuZ2wYcOLFtOLtuhsZBtX3i3E=/1200x630/2017%2F05%2F06%2F07%2Fbcf2a86547a845cb96884a7ba5836fee.0a994.jpg\n",
            "2020-04-26 20:21:15,127 - INFO - downloader - image #9\thttps://www.dailydot.com/wp-content/uploads/d19/63/4c8591cc76dc0adcd34f47ccb63ac561.jpg\n",
            "2020-04-26 20:21:15,136 - INFO - downloader - image #10\thttps://i.ytimg.com/vi/xTXO1bATFzs/maxresdefault.jpg\n",
            "2020-04-26 20:21:15,196 - INFO - downloader - image #11\thttps://static.timesofisrael.com/www/uploads/2016/09/pepenazi-1024x640.jpg\n",
            "2020-04-26 20:21:15,417 - INFO - downloader - image #12\thttps://s-media-cache-ak0.pinimg.com/736x/80/b3/7f/80b37f0bca55af750b585780d29c84a0.jpg\n",
            "2020-04-26 20:21:16,497 - INFO - downloader - image #13\thttps://www.dailydot.com/wp-content/uploads/93c/66/a4b96dd7f427e4b1ea181395c85fb34f.jpg\n",
            "2020-04-26 20:21:16,941 - INFO - downloader - image #14\thttps://media4.s-nbcnews.com/j/msnbc/components/video/201609/a_ov_pepe_160928.nbcnews-ux-1080-600.jpg\n",
            "2020-04-26 20:21:21,782 - INFO - parser - parsing result page https://www.bing.com/images/async?q=pepe meme&first=20\n",
            "2020-04-26 20:21:22,336 - ERROR - downloader - Exception caught when downloading file https://cdn.wallpapersafari.com/93/40/VHdAni.jpg, error: HTTPSConnectionPool(host='cdn.wallpapersafari.com', port=443): Read timed out. (read timeout=5), remaining retry times: 2\n",
            "2020-04-26 20:21:32,579 - INFO - downloader - image #15\thttps://cdn.wallpapersafari.com/93/40/VHdAni.jpg\n",
            "2020-04-26 20:21:32,850 - INFO - downloader - image #16\thttps://i.imgflip.com/151ox1.jpg\n",
            "2020-04-26 20:21:34,235 - INFO - downloader - image #17\thttp://i2.kym-cdn.com/photos/images/original/001/015/730/cb5.jpg\n",
            "2020-04-26 20:21:34,740 - INFO - downloader - image #18\thttps://www.alltheedge.com/wp-content/uploads/2018/01/pepe.jpg\n",
            "2020-04-26 20:21:35,123 - INFO - parser - parsing result page https://www.bing.com/images/async?q=pepe meme&first=40\n",
            "2020-04-26 20:21:35,912 - ERROR - downloader - Response status code 404, file http://www.slate.com/content/dam/slate/blogs/future_tense/2017/12/04/groyper_the_far_right_s_new_meme_is_a_more_racist_version_of_pepe_the_frog/1458945615421.jpg\n",
            "2020-04-26 20:21:36,312 - INFO - downloader - image #19\thttp://cdn1.tnwcdn.com/wp-content/blogs.dir/1/files/2016/09/pepesaddd.jpg\n",
            "2020-04-26 20:21:36,666 - INFO - downloader - image #20\thttp://www.relatably.com/m/img/pepe-memes-funny/7b38607d54672a11f99f2417df08926a.jpg\n",
            "2020-04-26 20:21:36,758 - INFO - downloader - image #21\thttp://media.breitbart.com/media/2016/05/no-pepe.jpg\n",
            "2020-04-26 20:21:36,906 - INFO - downloader - image #22\thttp://getwallpapers.com/wallpaper/full/6/9/e/67025.jpg\n",
            "2020-04-26 20:21:36,974 - INFO - downloader - image #23\thttp://pavbca.com/walldb/original/2/0/4/723590.jpg\n",
            "2020-04-26 20:21:37,022 - INFO - downloader - image #24\thttp://ih0.redbubble.net/image.131541121.9670/flat,1000x1000,075,f.jpg\n",
            "2020-04-26 20:21:37,076 - INFO - downloader - image #25\thttps://res.cloudinary.com/teepublic/image/private/s--fYD1RoPT--/t_Preview/b_rgb:191919,c_limit,f_jpg,h_630,q_90,w_630/v1478011383/production/designs/764536_1.jpg\n",
            "2020-04-26 20:21:37,245 - INFO - downloader - image #26\thttps://wallpapertag.com/wallpaper/full/1/1/3/959987-pepe-the-frog-wallpapers-1920x1080-for-retina.jpg\n",
            "2020-04-26 20:21:37,308 - INFO - downloader - image #27\thttps://ih1.redbubble.net/image.195007182.4770/flat,1000x1000,075,f.u5.jpg\n",
            "2020-04-26 20:21:37,401 - INFO - downloader - image #28\thttp://i0.kym-cdn.com/entries/icons/original/000/017/188/pepe_meme'd.jpg\n",
            "2020-04-26 20:21:43,695 - INFO - parser - parsing result page https://www.bing.com/images/async?q=pepe meme&first=60\n",
            "2020-04-26 20:21:49,900 - INFO - downloader - image #29\thttps://cdn.wallpapersafari.com/14/73/H43PON.jpg\n",
            "2020-04-26 20:21:50,397 - INFO - downloader - image #30\thttp://2.bp.blogspot.com/-fyPpP23s544/VT18808hn_I/AAAAAAAALro/h3PNcVqkvJI/s1600/pepe-the-frog-meme-5.jpg\n",
            "2020-04-26 20:21:50,558 - INFO - downloader - image #31\thttps://media4.s-nbcnews.com/j/MSNBC/Components/Video/201609/a_ov_Pepe_160928.nbcnews-fp-1200-630.jpg\n",
            "2020-04-26 20:21:56,219 - INFO - downloader - image #32\thttps://cdn.wallpapersafari.com/35/40/kBbpKU.jpg\n",
            "2020-04-26 20:21:57,710 - INFO - downloader - image #33\thttps://cdn.wallpapersafari.com/49/98/g4K1jT.jpg\n",
            "2020-04-26 20:21:57,856 - INFO - downloader - image #34\thttps://cdn.vox-cdn.com/thumbor/QvCqCgOJzMnLE5TrocqmxWQBdr0=/0x0:640x400/1200x800/filters:focal(269x149:371x251)/cdn.vox-cdn.com/uploads/chorus_image/image/58935757/Be-Nice-Man-Pepe-the-Frog_sized.0.jpg\n",
            "2020-04-26 20:21:57,881 - INFO - downloader - image #35\thttp://i.ebayimg.com/images/i/152099122083-0-1/s-l1000.jpg\n",
            "2020-04-26 20:21:57,950 - INFO - downloader - image #36\thttp://getwallpapers.com/wallpaper/full/f/a/c/254209.jpg\n",
            "2020-04-26 20:21:58,214 - INFO - downloader - image #37\thttp://www.relatably.com/m/img/pepe-memes-funny/pepe-frog-memes-02-550x550.jpg\n",
            "2020-04-26 20:21:58,293 - INFO - downloader - image #38\thttp://i1.kym-cdn.com/photos/images/facebook/000/937/860/6ee.jpg\n",
            "2020-04-26 20:21:58,740 - INFO - downloader - image #39\thttp://www.relatably.com/m/img/rare-memes-pepe/ktlNJZzAQ5I.jpg\n",
            "2020-04-26 20:21:58,815 - INFO - parser - parsing result page https://www.bing.com/images/async?q=pepe meme&first=80\n",
            "2020-04-26 20:21:58,886 - INFO - downloader - image #40\thttps://cdn0.vox-cdn.com/thumbor/WzqEw_Nb0MO3qe29oeGI61Bqlns=/0x0:1024x670/1200x800/filters:focal(431x254:593x416)/cdn0.vox-cdn.com/uploads/chorus_image/image/53112451/_yJDklO6vlGrXCUaTbsPcwixvZlty4Sux9I0qwrk_6c.0.jpg\n",
            "2020-04-26 20:21:59,158 - INFO - downloader - image #41\thttps://i.imgflip.com/35pnxn.jpg\n",
            "2020-04-26 20:21:59,336 - INFO - downloader - image #42\thttp://www.relatably.com/m/img/pepe-memes-funny/e9d2e9abee4e6f2a2675411a8dac8d9d9d0f3fcf215603ca802ac2e46ab2b3f5_1.jpg\n",
            "2020-04-26 20:21:59,447 - INFO - downloader - image #43\thttp://i2.kym-cdn.com/photos/images/original/000/937/863/4d8.jpg\n",
            "2020-04-26 20:21:59,473 - INFO - downloader - image #44\thttps://i.ytimg.com/vi/hNjEu2TjtoU/hqdefault.jpg\n",
            "2020-04-26 20:21:59,520 - INFO - downloader - image #45\thttp://data.whicdn.com/images/223366597/original.jpg\n",
            "2020-04-26 20:21:59,562 - INFO - downloader - image #46\thttp://getwallpapers.com/wallpaper/full/6/a/9/67130.jpg\n",
            "2020-04-26 20:21:59,604 - INFO - downloader - image #47\thttps://i.pinimg.com/736x/af/ba/bd/afbabd26b1ae654ffa32cebc19ca374f--frog-meme-gym-memes.jpg\n",
            "2020-04-26 20:21:59,617 - INFO - downloader - image #48\thttp://getwallpapers.com/wallpaper/full/d/8/9/67046.jpg\n",
            "2020-04-26 20:21:59,641 - ERROR - downloader - Exception caught when downloading file https://thumbs.mic.com/NjhmYTYwNTA2YSMvaGhDLWR2QzREMzJfWUplNmlwNWVQZXo5REc0PS8weDA6MTA4NngxMTQ3LzEyODB4NjIwL2ZpbHRlcnM6cXVhbGl0eSg3NSkvaHR0cHM6Ly9zMy5hbWF6b25hd3MuY29tL3BvbGljeW1pYy1pbWFnZXMva3Q2Ym16ZnVnZWJiaTZqYTJqMGhsZXE2aHp0anNzYnRvOHJqN3ozdGFyNmppY2ZyYnp4dHUwcXM2eDh2ZDh0eC5qcGc.jpg, error: HTTPSConnectionPool(host='thumbs.mic.com', port=443): Max retries exceeded with url: /NjhmYTYwNTA2YSMvaGhDLWR2QzREMzJfWUplNmlwNWVQZXo5REc0PS8weDA6MTA4NngxMTQ3LzEyODB4NjIwL2ZpbHRlcnM6cXVhbGl0eSg3NSkvaHR0cHM6Ly9zMy5hbWF6b25hd3MuY29tL3BvbGljeW1pYy1pbWFnZXMva3Q2Ym16ZnVnZWJiaTZqYTJqMGhsZXE2aHp0anNzYnRvOHJqN3ozdGFyNmppY2ZyYnp4dHUwcXM2eDh2ZDh0eC5qcGc.jpg (Caused by NewConnectionError('<urllib3.connection.VerifiedHTTPSConnection object at 0x7fcc4ede26a0>: Failed to establish a new connection: [Errno -2] Name or service not known',)), remaining retry times: 2\n",
            "2020-04-26 20:21:59,645 - ERROR - downloader - Exception caught when downloading file https://thumbs.mic.com/NjhmYTYwNTA2YSMvaGhDLWR2QzREMzJfWUplNmlwNWVQZXo5REc0PS8weDA6MTA4NngxMTQ3LzEyODB4NjIwL2ZpbHRlcnM6cXVhbGl0eSg3NSkvaHR0cHM6Ly9zMy5hbWF6b25hd3MuY29tL3BvbGljeW1pYy1pbWFnZXMva3Q2Ym16ZnVnZWJiaTZqYTJqMGhsZXE2aHp0anNzYnRvOHJqN3ozdGFyNmppY2ZyYnp4dHUwcXM2eDh2ZDh0eC5qcGc.jpg, error: HTTPSConnectionPool(host='thumbs.mic.com', port=443): Max retries exceeded with url: /NjhmYTYwNTA2YSMvaGhDLWR2QzREMzJfWUplNmlwNWVQZXo5REc0PS8weDA6MTA4NngxMTQ3LzEyODB4NjIwL2ZpbHRlcnM6cXVhbGl0eSg3NSkvaHR0cHM6Ly9zMy5hbWF6b25hd3MuY29tL3BvbGljeW1pYy1pbWFnZXMva3Q2Ym16ZnVnZWJiaTZqYTJqMGhsZXE2aHp0anNzYnRvOHJqN3ozdGFyNmppY2ZyYnp4dHUwcXM2eDh2ZDh0eC5qcGc.jpg (Caused by NewConnectionError('<urllib3.connection.VerifiedHTTPSConnection object at 0x7fcc4ed58128>: Failed to establish a new connection: [Errno -2] Name or service not known',)), remaining retry times: 1\n",
            "2020-04-26 20:21:59,648 - ERROR - downloader - Exception caught when downloading file https://thumbs.mic.com/NjhmYTYwNTA2YSMvaGhDLWR2QzREMzJfWUplNmlwNWVQZXo5REc0PS8weDA6MTA4NngxMTQ3LzEyODB4NjIwL2ZpbHRlcnM6cXVhbGl0eSg3NSkvaHR0cHM6Ly9zMy5hbWF6b25hd3MuY29tL3BvbGljeW1pYy1pbWFnZXMva3Q2Ym16ZnVnZWJiaTZqYTJqMGhsZXE2aHp0anNzYnRvOHJqN3ozdGFyNmppY2ZyYnp4dHUwcXM2eDh2ZDh0eC5qcGc.jpg, error: HTTPSConnectionPool(host='thumbs.mic.com', port=443): Max retries exceeded with url: /NjhmYTYwNTA2YSMvaGhDLWR2QzREMzJfWUplNmlwNWVQZXo5REc0PS8weDA6MTA4NngxMTQ3LzEyODB4NjIwL2ZpbHRlcnM6cXVhbGl0eSg3NSkvaHR0cHM6Ly9zMy5hbWF6b25hd3MuY29tL3BvbGljeW1pYy1pbWFnZXMva3Q2Ym16ZnVnZWJiaTZqYTJqMGhsZXE2aHp0anNzYnRvOHJqN3ozdGFyNmppY2ZyYnp4dHUwcXM2eDh2ZDh0eC5qcGc.jpg (Caused by NewConnectionError('<urllib3.connection.VerifiedHTTPSConnection object at 0x7fcc4ede20f0>: Failed to establish a new connection: [Errno -2] Name or service not known',)), remaining retry times: 0\n",
            "2020-04-26 20:21:59,703 - INFO - downloader - image #49\thttps://img.buzzfeed.com/buzzfeed-static/static/2015-10/27/17/campaign_images/webdr06/what-is-the-market-value-of-a-rare-pepe-2-28727-1445981181-8_dblbig.jpg\n",
            "2020-04-26 20:21:59,757 - INFO - downloader - image #50\thttp://i2.kym-cdn.com/photos/images/facebook/001/175/337/ee1.jpg\n",
            "2020-04-26 20:22:01,524 - INFO - parser - no more page urls for thread parser-001 to parse\n",
            "2020-04-26 20:22:01,525 - INFO - parser - thread parser-001 exit\n",
            "2020-04-26 20:22:04,759 - INFO - downloader - no more download task for thread downloader-001\n",
            "2020-04-26 20:22:04,760 - INFO - downloader - thread downloader-001 exit\n",
            "2020-04-26 20:22:05,561 - INFO - icrawler.crawler - Crawling task done!\n",
            "2020-04-26 20:22:05,574 - INFO - icrawler.crawler - start crawling...\n",
            "2020-04-26 20:22:05,575 - INFO - icrawler.crawler - starting 1 feeder threads...\n",
            "2020-04-26 20:22:05,580 - INFO - feeder - thread feeder-001 exit\n",
            "2020-04-26 20:22:05,580 - INFO - icrawler.crawler - starting 1 parser threads...\n",
            "2020-04-26 20:22:05,586 - INFO - icrawler.crawler - starting 1 downloader threads...\n",
            "2020-04-26 20:22:05,967 - INFO - parser - parsing result page https://www.bing.com/images/async?q=doge meme&first=0\n",
            "2020-04-26 20:22:06,095 - INFO - downloader - image #1\thttps://yt3.ggpht.com/-7zFDHK5X45w/AAAAAAAAAAI/AAAAAAAAAAA/QJfHeLTEZwE/s900-c-k-no-mo-rj-c0xffffff/photo.jpg\n",
            "2020-04-26 20:22:06,115 - INFO - downloader - image #2\thttps://i.ytimg.com/vi/Yj7ja6BANLM/maxresdefault.jpg\n",
            "2020-04-26 20:22:06,125 - INFO - downloader - image #3\thttp://i.ytimg.com/vi/8M7Qie4Aowk/hqdefault.jpg\n",
            "2020-04-26 20:22:06,134 - INFO - downloader - image #4\thttps://i.ytimg.com/vi/eUxQnXunpmA/maxresdefault.jpg\n",
            "2020-04-26 20:22:07,608 - INFO - downloader - image #5\thttps://www.dailydot.com/wp-content/uploads/2018/04/pattern-2048x1024.jpg\n",
            "2020-04-26 20:22:08,191 - INFO - downloader - image #6\thttp://static02.mediaite.com/themarysue/uploads/2013/12/time.jpg\n",
            "2020-04-26 20:22:08,205 - INFO - downloader - image #7\thttps://i.ytimg.com/vi/s7dLr3X0oDc/hqdefault.jpg\n",
            "2020-04-26 20:22:08,275 - INFO - downloader - image #8\thttp://i3.kym-cdn.com/photos/images/facebook/000/674/934/422.jpg\n",
            "2020-04-26 20:22:08,347 - INFO - downloader - image #9\thttps://i.imgflip.com/4l3w9.jpg\n",
            "2020-04-26 20:22:08,362 - INFO - downloader - image #10\thttps://i.ytimg.com/vi/9iKUAW3HHxM/maxresdefault.jpg\n",
            "2020-04-26 20:22:08,566 - INFO - downloader - image #11\thttp://1.bp.blogspot.com/-bleW4O695KI/U0uc6KsU7wI/AAAAAAAAAI4/Lj_tMvpSaSA/s1600/doge+1.jpg\n",
            "2020-04-26 20:22:09,718 - ERROR - downloader - Response status code 404, file http://www.slate.com/content/dam/slate/articles/news_and_politics/the_slate_quiz/authorPortraits/pronounce_doge4.jpg\n",
            "2020-04-26 20:22:09,797 - INFO - downloader - image #12\thttp://i1.kym-cdn.com/photos/images/facebook/000/582/539/2ce.jpg\n",
            "2020-04-26 20:22:09,897 - INFO - downloader - image #13\thttp://i0.kym-cdn.com/photos/images/facebook/000/616/332/1ea.jpg\n",
            "2020-04-26 20:22:11,001 - INFO - downloader - image #14\thttp://goodyfeed.com/wp-content/uploads/2018/01/ltidl.jpg\n",
            "2020-04-26 20:22:11,257 - INFO - downloader - image #15\thttps://thewaltzing.files.wordpress.com/2013/11/possible-cover.jpg\n",
            "2020-04-26 20:22:11,609 - INFO - downloader - image #16\thttp://i1.kym-cdn.com/photos/images/facebook/000/782/067/850.jpg\n",
            "2020-04-26 20:22:11,618 - INFO - downloader - image #17\thttps://i.ytimg.com/vi/mhrvQmjKg24/maxresdefault.jpg\n",
            "2020-04-26 20:22:11,658 - INFO - downloader - image #18\thttps://pbs.twimg.com/media/Cbg6oKqUkAI2PAB.jpg\n",
            "2020-04-26 20:22:11,681 - INFO - downloader - image #19\thttp://i1.kym-cdn.com/photos/images/original/000/581/721/e29.jpg\n",
            "2020-04-26 20:22:11,802 - INFO - downloader - image #20\thttps://i.barkpost.com/wp-content/uploads/2014/01/a0126590_02546.jpg\n",
            "2020-04-26 20:22:12,858 - INFO - downloader - image #21\thttp://theludlowgroup.com/content/images/2016/11/Memejacking_Doge_Meme.jpg\n",
            "2020-04-26 20:22:13,397 - INFO - downloader - image #22\thttp://www.wpromote.com/blog/wp-content/uploads/2015/06/doge-meme.jpg\n",
            "2020-04-26 20:22:13,407 - INFO - downloader - image #23\thttps://i.ytimg.com/vi/d12Bur56ArY/maxresdefault.jpg\n",
            "2020-04-26 20:22:13,434 - INFO - downloader - image #24\thttp://i1.kym-cdn.com/photos/images/original/000/581/408/902.jpg\n",
            "2020-04-26 20:22:13,647 - INFO - downloader - image #25\thttps://s-media-cache-ak0.pinimg.com/736x/97/31/90/97319078095901d90b2754c7f3f2373d.jpg\n",
            "2020-04-26 20:22:13,672 - INFO - downloader - image #26\thttps://i.ytimg.com/vi/3nKcwu87osE/hqdefault.jpg\n",
            "2020-04-26 20:22:14,150 - INFO - parser - parsing result page https://www.bing.com/images/async?q=doge meme&first=20\n",
            "2020-04-26 20:22:14,370 - INFO - downloader - image #27\thttp://odditymall.com/includes/content/upload/doge-mask-666.jpg\n",
            "2020-04-26 20:22:14,470 - INFO - downloader - image #28\thttp://i2.kym-cdn.com/photos/images/facebook/000/581/567/bab.jpg\n",
            "2020-04-26 20:22:15,459 - INFO - downloader - image #29\thttps://asktheleagueofnerds.com/wp-content/uploads/2014/03/classicdoge.jpg\n",
            "2020-04-26 20:22:16,503 - INFO - downloader - image #30\thttps://www.themarysue.com/wp-content/uploads/2013/12/time.jpg\n",
            "2020-04-26 20:22:16,513 - INFO - downloader - image #31\thttps://i.ytimg.com/vi/8SsZHmgnFFc/maxresdefault.jpg\n",
            "2020-04-26 20:22:16,610 - INFO - downloader - image #32\thttp://i3.kym-cdn.com/photos/images/facebook/000/581/720/315.jpg\n",
            "2020-04-26 20:22:16,890 - INFO - downloader - image #33\thttps://i.pinimg.com/736x/4b/fa/e9/4bfae96df3bc654bcac7d26fdc496173--doge-meme-dog-funnies.jpg\n",
            "2020-04-26 20:22:17,140 - INFO - downloader - image #34\thttp://cdn.runt-of-the-web.com/wordpress/wp-content/uploads/2013/11/doge-meme-shot.jpg\n",
            "2020-04-26 20:22:17,383 - INFO - downloader - image #35\thttps://runt-of-the-web.com/wordpress/wp-content/uploads/2013/11/no.jpg\n",
            "2020-04-26 20:22:17,924 - INFO - downloader - image #36\thttp://cdn3.sbnation.com/assets/3786371/DOGE-12.jpg\n",
            "2020-04-26 20:22:18,163 - INFO - parser - parsing result page https://www.bing.com/images/async?q=doge meme&first=40\n",
            "2020-04-26 20:22:18,480 - INFO - downloader - image #37\thttps://www.dictionary.com/e/wp-content/uploads/2018/03/doge.jpg\n",
            "2020-04-26 20:22:19,000 - INFO - downloader - image #38\thttp://barkpost-assets.s3.amazonaws.com/wp-content/uploads/2013/11/dogepaints.jpg\n",
            "2020-04-26 20:22:19,158 - INFO - downloader - image #39\thttps://tr3.cbsistatic.com/hub/i/2014/05/15/bd87da00-40e5-4337-892e-b43a25836d67/trdoge.jpg\n",
            "2020-04-26 20:22:19,629 - INFO - downloader - image #40\thttps://secureservercdn.net/198.71.233.109/4z9.cec.myftpupload.com/wp-content/uploads/2019/12/Doge-Meme-of-the-Decade.jpg\n",
            "2020-04-26 20:22:19,678 - INFO - downloader - image #41\thttps://pbs.twimg.com/media/CksKdX-UgAAsCCv.jpg\n",
            "2020-04-26 20:22:19,715 - INFO - downloader - image #42\thttps://i.ytimg.com/vi/HALZUoeoK4M/hqdefault.jpg\n",
            "2020-04-26 20:22:19,773 - INFO - downloader - image #43\thttps://ih0.redbubble.net/image.445130512.1102/flat,550x550,075,f.u1.jpg\n",
            "2020-04-26 20:22:21,275 - ERROR - downloader - Response status code 404, file http://www.slate.com/content/dam/slate/blogs/lexicon_valley/2014/02/13/doge_why_we_can_t_agree_on_how_to_pronounce_the_internet_meme_featuring/wowsuchgrammarsoteach.jpg\n",
            "2020-04-26 20:22:27,029 - INFO - downloader - image #44\thttps://cdn.wallpapersafari.com/56/40/odURzH.jpg\n",
            "2020-04-26 20:22:27,424 - INFO - downloader - image #45\thttps://i.imgflip.com/1b56z1.jpg\n",
            "2020-04-26 20:22:28,133 - INFO - downloader - image #46\thttp://legendsoflocalization.com/wp-content/uploads/2015/10/zelda-doge-meme.jpg\n",
            "2020-04-26 20:22:28,254 - INFO - downloader - image #47\thttp://barkpost-assets.s3.amazonaws.com/wp-content/uploads/2013/11/DJdoge.jpg\n",
            "2020-04-26 20:22:28,418 - INFO - parser - parsing result page https://www.bing.com/images/async?q=doge meme&first=60\n",
            "2020-04-26 20:22:29,152 - INFO - downloader - image #48\thttps://forums.windowscentral.com/attachments/off-topic-lounge/104500d1431457410t-dog-meme-plane.jpg\n",
            "2020-04-26 20:22:29,233 - INFO - downloader - image #49\thttp://i1.kym-cdn.com/photos/images/original/000/682/636/a56.jpg\n",
            "2020-04-26 20:22:29,243 - INFO - downloader - image #50\thttps://i.ytimg.com/vi/O-ey1ZW9WrU/hqdefault.jpg\n",
            "2020-04-26 20:22:29,321 - INFO - downloader - image #51\thttp://i3.kym-cdn.com/photos/images/facebook/000/581/168/9f1.jpg\n",
            "2020-04-26 20:22:29,811 - INFO - downloader - image #52\thttps://tr2.cbsistatic.com/hub/i/2014/05/15/f8964afd-bd82-4e0e-bcbe-e927363dcdc1/3b858e39e2cf183b878f54cad0073a67/codedoge.jpg\n",
            "2020-04-26 20:22:30,201 - INFO - downloader - image #53\thttps://s-media-cache-ak0.pinimg.com/736x/87/ca/1a/87ca1a94c112839d607241323cac8aa2.jpg\n",
            "2020-04-26 20:22:30,675 - INFO - downloader - image #54\thttp://1.bp.blogspot.com/-6M2qe39W19g/Unh1PUmnxaI/AAAAAAAAAJI/AzoDJkfuXFQ/s1600/Shibe-Doge-Meme-Landed-A-Big-Gig-With-The-Dodge-Car-Company.jpg\n",
            "2020-04-26 20:22:30,686 - INFO - downloader - image #55\thttps://i.ytimg.com/vi/Z3W0-sjLfMM/maxresdefault.jpg\n",
            "2020-04-26 20:22:30,701 - INFO - downloader - image #56\thttps://i.ytimg.com/vi/K8c7Iu9LeOs/hqdefault.jpg\n",
            "2020-04-26 20:22:30,853 - INFO - downloader - image #57\thttps://memesbams.com/wp-content/uploads/2017/10/1-Lost-Doge-Meme.jpg\n",
            "2020-04-26 20:22:32,305 - INFO - downloader - image #58\thttps://www.dailydot.com/wp-content/uploads/f73/90/9e58e1007a2e9f21567776b4b0e86b10.jpg\n",
            "2020-04-26 20:22:32,559 - INFO - downloader - image #59\thttps://i.pinimg.com/736x/c1/8b/56/c18b56d70e99ded167b6a7a4ed4f8ae4--doge-meme-shiba-inu.jpg\n",
            "2020-04-26 20:22:33,083 - INFO - parser - parsing result page https://www.bing.com/images/async?q=doge meme&first=80\n",
            "2020-04-26 20:22:33,431 - INFO - downloader - image #60\thttp://i1.kym-cdn.com/photos/images/original/000/606/434/dc9.jpg\n",
            "2020-04-26 20:22:33,481 - INFO - downloader - image #61\thttps://i.redd.it/znyfpcealw111.jpg\n",
            "2020-04-26 20:22:33,603 - INFO - downloader - image #62\thttps://i.ytimg.com/vi/JOjnq9DRmWU/maxresdefault.jpg\n",
            "2020-04-26 20:22:33,699 - INFO - downloader - image #63\thttp://i2.kym-cdn.com/photos/images/facebook/000/581/526/3a7.jpg\n",
            "2020-04-26 20:22:34,077 - INFO - downloader - image #64\thttp://i3.kym-cdn.com/photos/images/facebook/000/734/423/c63.jpg\n",
            "2020-04-26 20:22:34,241 - INFO - downloader - image #65\thttps://static.businessinsider.com/image/52b86ce46bb3f7032e3faf9e-750.jpg\n",
            "2020-04-26 20:22:34,284 - INFO - downloader - image #66\thttps://suchwowdogememes.files.wordpress.com/2014/02/doge-lion.jpg\n",
            "2020-04-26 20:22:35,217 - INFO - downloader - image #67\thttp://www.barnorama.com/wp-content/images/2013/01/The-Best-Doge-Meme/18-The-Best-Doge-Meme.jpg\n",
            "2020-04-26 20:22:35,235 - INFO - downloader - image #68\thttps://i.redd.it/73q55keoi2121.jpg\n",
            "2020-04-26 20:22:35,725 - INFO - downloader - image #69\thttp://cdn3.sbnation.com/assets/3785153/DOGE-6.jpg\n",
            "2020-04-26 20:22:36,571 - INFO - downloader - image #70\thttps://weneedfun.com/wp-content/uploads/2016/08/Doge-Memes-10.jpg\n",
            "2020-04-26 20:22:36,929 - INFO - downloader - image #71\thttp://cdn1.sbnation.com/assets/3775847/scarfdoge_meme.jpg\n",
            "2020-04-26 20:22:37,086 - INFO - downloader - image #72\thttps://runt-of-the-web.com/wordpress/wp-content/uploads/2013/11/doge-meme-stylish.jpg\n",
            "2020-04-26 20:22:37,238 - INFO - parser - no more page urls for thread parser-001 to parse\n",
            "2020-04-26 20:22:37,239 - INFO - parser - thread parser-001 exit\n",
            "2020-04-26 20:22:42,999 - INFO - downloader - image #73\thttp://cdn.wallpapersafari.com/22/39/joyd8w.jpg\n",
            "2020-04-26 20:22:43,734 - INFO - downloader - image #74\thttps://i.imgflip.com/tn028.jpg\n",
            "2020-04-26 20:22:48,736 - INFO - downloader - no more download task for thread downloader-001\n",
            "2020-04-26 20:22:48,736 - INFO - downloader - thread downloader-001 exit\n",
            "2020-04-26 20:22:49,638 - INFO - icrawler.crawler - Crawling task done!\n"
          ],
          "name": "stderr"
        }
      ]
    },
    {
      "cell_type": "code",
      "metadata": {
        "id": "OL55wQASJqNn",
        "colab": {
          "base_uri": "https://localhost:8080/",
          "height": 35
        },
        "outputId": "22406d39-9249-46fc-cb7e-cf04ebebd5e4"
      },
      "source": [
        "base_dir = 'data'\n",
        "\n",
        "IMAGE_SIZE = 224\n",
        "BATCH_SIZE = 64\n",
        "\n",
        "datagen = tf.keras.preprocessing.image.ImageDataGenerator(\n",
        "    rescale=1./255, \n",
        "    validation_split=0.2)\n",
        "\n",
        "train_generator = datagen.flow_from_directory(\n",
        "    base_dir,\n",
        "    target_size=(IMAGE_SIZE, IMAGE_SIZE),\n",
        "    batch_size=BATCH_SIZE, \n",
        "    shuffle=True,\n",
        "    subset='training')\n",
        "\n"
      ],
      "execution_count": null,
      "outputs": [
        {
          "output_type": "stream",
          "text": [
            "Found 100 images belonging to 2 classes.\n"
          ],
          "name": "stdout"
        }
      ]
    },
    {
      "cell_type": "code",
      "metadata": {
        "id": "1zebIfjbLBbM",
        "colab": {
          "base_uri": "https://localhost:8080/",
          "height": 72
        },
        "outputId": "d2bc7a4e-8d83-4009-d199-b421a5e6302e"
      },
      "source": [
        "IMG_SHAPE = (IMAGE_SIZE, IMAGE_SIZE, 3)\n",
        "\n",
        "# Create the base model from the pre-trained model MobileNet V2\n",
        "base_model = tf.keras.applications.MobileNetV2(input_shape=IMG_SHAPE,\n",
        "                                              include_top=False, \n",
        "                                              weights='imagenet')"
      ],
      "execution_count": null,
      "outputs": [
        {
          "output_type": "stream",
          "text": [
            "Downloading data from https://storage.googleapis.com/tensorflow/keras-applications/mobilenet_v2/mobilenet_v2_weights_tf_dim_ordering_tf_kernels_1.0_224_no_top.h5\n",
            "9412608/9406464 [==============================] - 0s 0us/step\n"
          ],
          "name": "stdout"
        }
      ]
    },
    {
      "cell_type": "code",
      "metadata": {
        "id": "5sVtV23uLk_L"
      },
      "source": [
        "model = tf.keras.Sequential([\n",
        "  base_model,\n",
        "  tf.keras.layers.Conv2D(32, 3, activation='relu'),\n",
        "  tf.keras.layers.Dropout(0.2),\n",
        "  tf.keras.layers.GlobalAveragePooling2D(),\n",
        "  tf.keras.layers.Dense(2, activation='softmax')\n",
        "])\n"
      ],
      "execution_count": null,
      "outputs": []
    },
    {
      "cell_type": "code",
      "metadata": {
        "id": "v_uEPeFRMwdY"
      },
      "source": [
        "model.compile(optimizer=tf.keras.optimizers.Adam(),loss='categorical_crossentropy',metrics=['accuracy'])"
      ],
      "execution_count": null,
      "outputs": []
    },
    {
      "cell_type": "code",
      "metadata": {
        "id": "2wj0F87NNsd9",
        "colab": {
          "base_uri": "https://localhost:8080/",
          "height": 139
        },
        "outputId": "b6b794e0-74ca-42f5-9957-aa8278c97e77"
      },
      "source": [
        "model.fit(train_generator,epochs=3,steps_per_epoch=2)"
      ],
      "execution_count": null,
      "outputs": [
        {
          "output_type": "stream",
          "text": [
            "Epoch 1/3\n",
            "2/2 [==============================] - 1s 270ms/step - loss: 2.5229e-06 - accuracy: 1.0000\n",
            "Epoch 2/3\n",
            "2/2 [==============================] - 0s 185ms/step - loss: 5.4929e-05 - accuracy: 1.0000\n",
            "Epoch 3/3\n",
            "2/2 [==============================] - 0s 205ms/step - loss: 1.6583e-06 - accuracy: 1.0000\n"
          ],
          "name": "stdout"
        },
        {
          "output_type": "execute_result",
          "data": {
            "text/plain": [
              "<tensorflow.python.keras.callbacks.History at 0x7fcbd42bd1d0>"
            ]
          },
          "metadata": {
            "tags": []
          },
          "execution_count": 22
        }
      ]
    },
    {
      "cell_type": "code",
      "metadata": {
        "id": "M2jbJJ1fN76B",
        "colab": {
          "base_uri": "https://localhost:8080/",
          "height": 193
        },
        "outputId": "3c602a37-e461-4bfe-bb71-0b066ee713e9"
      },
      "source": [
        "saved_model_dir = 'save'\n",
        "tf.saved_model.save(model, saved_model_dir)\n",
        "\n",
        "converter = tf.lite.TFLiteConverter.from_saved_model(saved_model_dir)\n",
        "tflite_model = converter.convert()\n",
        "\n",
        "with open('model.tflite', 'wb') as f:\n",
        "  f.write(tflite_model)"
      ],
      "execution_count": null,
      "outputs": [
        {
          "output_type": "stream",
          "text": [
            "WARNING:tensorflow:From /usr/local/lib/python3.6/dist-packages/tensorflow/python/ops/resource_variable_ops.py:1817: calling BaseResourceVariable.__init__ (from tensorflow.python.ops.resource_variable_ops) with constraint is deprecated and will be removed in a future version.\n",
            "Instructions for updating:\n",
            "If using Keras pass *_constraint arguments to layers.\n"
          ],
          "name": "stdout"
        },
        {
          "output_type": "stream",
          "text": [
            "2020-04-26 20:41:56,164 - WARNING - tensorflow - From /usr/local/lib/python3.6/dist-packages/tensorflow/python/ops/resource_variable_ops.py:1817: calling BaseResourceVariable.__init__ (from tensorflow.python.ops.resource_variable_ops) with constraint is deprecated and will be removed in a future version.\n",
            "Instructions for updating:\n",
            "If using Keras pass *_constraint arguments to layers.\n"
          ],
          "name": "stderr"
        },
        {
          "output_type": "stream",
          "text": [
            "INFO:tensorflow:Assets written to: save/assets\n"
          ],
          "name": "stdout"
        },
        {
          "output_type": "stream",
          "text": [
            "2020-04-26 20:42:00,014 - INFO - tensorflow - Assets written to: save/assets\n",
            "2020-04-26 20:42:10,140 - INFO - absl - Using experimental converter: If you encountered a problem please file a bug. You can opt-out by setting experimental_new_converter=False\n"
          ],
          "name": "stderr"
        }
      ]
    }
  ]
}